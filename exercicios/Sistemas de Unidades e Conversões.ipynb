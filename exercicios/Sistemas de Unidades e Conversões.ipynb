{
  "cells": [
    {
      "cell_type": "markdown",
      "metadata": {
        "id": "9uJ0TYy6HWeA"
      },
      "source": [
        "# Sistemas de Unidades e Conversões"
      ]
    },
    {
      "cell_type": "markdown",
      "source": [
        "## Grandezas Físicas\n",
        "Grandezas físicas são a propriedade de um material ou sistema que pode ser quantificado por medição.\n",
        "\n",
        "[Fonte](https://en.wikipedia.org/wiki/Physical_quantity)"
      ],
      "metadata": {
        "id": "r0lNEKrJHZD5"
      }
    },
    {
      "cell_type": "markdown",
      "source": [
        "### Comprimento\n",
        "O comprimento expressa a **distância entre dois pontos**, sendo também conhecido, dependendo do contexto, como *altura*, *largura* ou *distância*.\n",
        "\n",
        "No Sistema Internacional de Unidades (SI), a unidade padrão para comprimento é o **metro (m)**. Outras unidades de medida incluem o **quilômetro (km)**, **centímetro (cm)** e **milímetro (mm)**, além de unidades imperiais como **polegadas (in)** e **pés (ft)**, frequentemente usadas em países como os Estados Unidos.\n",
        "\n",
        "#### Conversão de unidades\n",
        "Para converter entre diferentes unidades, utilizam-se regras de proporcionalidade. Por exemplo, para converter 2,5 metros em centímetros:\n",
        "$$ 2.5m * 100 = 250cm $$\n",
        "$$ 3.2m * 1000=3200mm $$\n",
        "$$ 1.75km * 1000=1750m $$\n",
        "$$ 150cm / 100=1.5m $$\n",
        "\n",
        "##### **Tabela de conversão de distância:**\n",
        "\n",
        "![tabela de conversão de distância](data:image/jpeg;base64,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)\n",
        "\n",
        "[Fonte](https://pt.wikipedia.org/wiki/Comprimento)"
      ],
      "metadata": {
        "id": "EPHYc5h_JnUq"
      }
    },
    {
      "cell_type": "markdown",
      "source": [
        "\n",
        "\n",
        "### Massa\n",
        "\n",
        "### Tempo\n",
        "\n",
        "### Corrente elétrica\n",
        "\n",
        "### Temperatura termodinâmica\n",
        "\n",
        "### Quantidade de substância\n",
        "\n",
        "### Intensidade luminosa"
      ],
      "metadata": {
        "id": "W_ayawSTHlg4"
      }
    }
  ],
  "metadata": {
    "language_info": {
      "name": "python"
    },
    "colab": {
      "provenance": []
    }
  },
  "nbformat": 4,
  "nbformat_minor": 0
}